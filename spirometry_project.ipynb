{
 "cells": [
  {
   "cell_type": "code",
   "execution_count": 43,
   "metadata": {},
   "outputs": [],
   "source": [
    "import os\n",
    "import pandas as pd\n",
    "import numpy as np\n",
    "import matplotlib.pyplot as plt"
   ]
  },
  {
   "cell_type": "markdown",
   "metadata": {},
   "source": [
    "# Load dataset"
   ]
  },
  {
   "cell_type": "code",
   "execution_count": 44,
   "metadata": {},
   "outputs": [
    {
     "data": {
      "text/plain": [
       "'c:\\\\Users\\\\victo\\\\Personal_Projects\\\\spirometry'"
      ]
     },
     "execution_count": 44,
     "metadata": {},
     "output_type": "execute_result"
    }
   ],
   "source": [
    "os.chdir(\"c:/Users/victo/Personal_Projects/spirometry/\")\n",
    "os.getcwd()"
   ]
  },
  {
   "cell_type": "code",
   "execution_count": 45,
   "metadata": {},
   "outputs": [],
   "source": [
    "spirometry = pd.read_csv('spirometry_data/spirotidydatafinal.txt', sep=',')"
   ]
  },
  {
   "cell_type": "code",
   "execution_count": 46,
   "metadata": {},
   "outputs": [
    {
     "data": {
      "text/html": [
       "<div>\n",
       "<style scoped>\n",
       "    .dataframe tbody tr th:only-of-type {\n",
       "        vertical-align: middle;\n",
       "    }\n",
       "\n",
       "    .dataframe tbody tr th {\n",
       "        vertical-align: top;\n",
       "    }\n",
       "\n",
       "    .dataframe thead th {\n",
       "        text-align: right;\n",
       "    }\n",
       "</style>\n",
       "<table border=\"1\" class=\"dataframe\">\n",
       "  <thead>\n",
       "    <tr style=\"text-align: right;\">\n",
       "      <th></th>\n",
       "      <th>ID</th>\n",
       "      <th>Visit</th>\n",
       "      <th>Trial</th>\n",
       "      <th>Time</th>\n",
       "      <th>Volume</th>\n",
       "      <th>Flow</th>\n",
       "    </tr>\n",
       "  </thead>\n",
       "  <tbody>\n",
       "    <tr>\n",
       "      <th>0</th>\n",
       "      <td>101</td>\n",
       "      <td>1</td>\n",
       "      <td>1</td>\n",
       "      <td>0.0</td>\n",
       "      <td>1.6822</td>\n",
       "      <td>0.04125</td>\n",
       "    </tr>\n",
       "    <tr>\n",
       "      <th>1</th>\n",
       "      <td>101</td>\n",
       "      <td>1</td>\n",
       "      <td>1</td>\n",
       "      <td>10.0</td>\n",
       "      <td>1.6829</td>\n",
       "      <td>0.07125</td>\n",
       "    </tr>\n",
       "    <tr>\n",
       "      <th>2</th>\n",
       "      <td>101</td>\n",
       "      <td>1</td>\n",
       "      <td>1</td>\n",
       "      <td>20.0</td>\n",
       "      <td>1.6840</td>\n",
       "      <td>0.11250</td>\n",
       "    </tr>\n",
       "    <tr>\n",
       "      <th>3</th>\n",
       "      <td>101</td>\n",
       "      <td>1</td>\n",
       "      <td>1</td>\n",
       "      <td>30.0</td>\n",
       "      <td>1.6855</td>\n",
       "      <td>0.14750</td>\n",
       "    </tr>\n",
       "    <tr>\n",
       "      <th>4</th>\n",
       "      <td>101</td>\n",
       "      <td>1</td>\n",
       "      <td>1</td>\n",
       "      <td>40.0</td>\n",
       "      <td>1.6872</td>\n",
       "      <td>0.16812</td>\n",
       "    </tr>\n",
       "  </tbody>\n",
       "</table>\n",
       "</div>"
      ],
      "text/plain": [
       "    ID  Visit  Trial  Time  Volume     Flow\n",
       "0  101      1      1   0.0  1.6822  0.04125\n",
       "1  101      1      1  10.0  1.6829  0.07125\n",
       "2  101      1      1  20.0  1.6840  0.11250\n",
       "3  101      1      1  30.0  1.6855  0.14750\n",
       "4  101      1      1  40.0  1.6872  0.16812"
      ]
     },
     "execution_count": 46,
     "metadata": {},
     "output_type": "execute_result"
    }
   ],
   "source": [
    "# spirometry.dropna(inplace=True)\n",
    "spirometry.head()"
   ]
  },
  {
   "cell_type": "code",
   "execution_count": 47,
   "metadata": {},
   "outputs": [
    {
     "data": {
      "text/plain": [
       "'c:\\\\Users\\\\victo\\\\Personal_Projects\\\\spirometry'"
      ]
     },
     "execution_count": 47,
     "metadata": {},
     "output_type": "execute_result"
    }
   ],
   "source": [
    "os.getcwd()"
   ]
  },
  {
   "cell_type": "code",
   "execution_count": 48,
   "metadata": {},
   "outputs": [],
   "source": [
    "# spirometry = spirometry[(spirometry[\"ID\"] == 202)]\n",
    "# spirometry"
   ]
  },
  {
   "cell_type": "code",
   "execution_count": 53,
   "metadata": {},
   "outputs": [],
   "source": [
    "def delete_files_in_directory(directory):\n",
    "    \"\"\"\n",
    "    Deletes all files in the specified directory.\n",
    "\n",
    "    Args:\n",
    "        directory (str): The path to the directory.\n",
    "\n",
    "    Returns:\n",
    "        None\n",
    "    \"\"\"\n",
    "    # Iterate over all files in the directory\n",
    "    for file_name in os.listdir(directory):\n",
    "        file_path = os.path.join(directory, file_name)\n",
    "        # Check if the path is a file and delete it\n",
    "        if os.path.isfile(file_path):\n",
    "            os.remove(file_path)"
   ]
  },
  {
   "cell_type": "code",
   "execution_count": 55,
   "metadata": {},
   "outputs": [],
   "source": [
    "delete_files_in_directory('python_run_output')\n",
    "patient_ids = spirometry['ID'].unique()\n",
    "for patient_id in patient_ids:\n",
    "    # Format the data for each patient\n",
    "    patient_data = spirometry[spirometry['ID'] == patient_id]\n",
    "\n",
    "    accepted_flow, accepted_volume = pd.DataFrame(), pd.DataFrame()\n",
    "    trials_array, visits_array = np.array([]), np.array([])\n",
    "    \n",
    "    # Get the number of visits each patient\n",
    "    n_visits = patient_data['Visit'].unique()    \n",
    "    for visit in n_visits:\n",
    "        visit_data = patient_data[patient_data['Visit'] == visit]\n",
    "        n_trials = patient_data[patient_data['Visit'] == visit]['Trial'].unique()\n",
    "        for trial in n_trials:\n",
    "            visits_array = np.append(visits_array, visit)\n",
    "            trials_array = np.append(trials_array, trial)\n",
    "            \n",
    "            # Creating Volume and Flow arrays for each trial\n",
    "            vol_trex = visit_data[visit_data['Trial'] == trial]['Volume']\n",
    "            flow_trex = visit_data[visit_data['Trial'] == trial]['Flow']\n",
    "            accepted_flow = pd.concat([accepted_flow, flow_trex.reset_index(drop=True)], axis=1)\n",
    "            accepted_volume = pd.concat([accepted_volume, vol_trex.reset_index(drop=True)], axis=1)\n",
    "            \n",
    "    accepted_flow = accepted_flow.T\n",
    "    accepted_volume = accepted_volume.T\n",
    "    subplot_size = int(np.ceil(np.sqrt(len(trials_array))))\n",
    "    fig, axs = plt.subplots(subplot_size, subplot_size, figsize=(10, 10))\n",
    "    fig.suptitle(f\"Patient ID: {patient_id}\", fontsize=16)\n",
    "    m = 0\n",
    "    \n",
    "    # Calculate AIN \n",
    "    AIN = np.array([])\n",
    "\n",
    "    visits_array = visits_array.astype(int)\n",
    "    trials_array = trials_array.astype(int)\n",
    "\n",
    "    for i, (trial, visit) in enumerate(zip(trials_array, visits_array)):\n",
    "        if subplot_size == 1:\n",
    "            axs = np.array([axs])\n",
    "        axs = axs.flatten()\n",
    "        vol_ain = accepted_volume.iloc[i].to_numpy().reshape(1, -1)\n",
    "        flow_ain = accepted_flow.iloc[i].to_numpy().reshape(1, -1)\n",
    "        m += 1\n",
    "        # Finding peak of inspiratory (since inspiratory flow is negative, \n",
    "        # we use the minimum value of flow as the peak of inspiratory flow)\n",
    "        min_flow, min_flow_idx = np.nanmin(flow_ain, axis=1), np.nanargmin(flow_ain, axis=1)[0]\n",
    "        \n",
    "        # Finding the maximum volume and its index\n",
    "        max_vol, max_vol_idx = np.nanmax(vol_ain), np.nanargmax(vol_ain, axis=1)[0]\n",
    "        \n",
    "        # Find the 2nd index for ain calc (dont really understand this part)\n",
    "        ain_val2_idx = np.where(flow_ain[0][min_flow_idx:] >= 0)[0]\n",
    "        ain_val2 = np.ones(ain_val2_idx.shape)\n",
    "        disqualify = False\n",
    "        if abs(min_flow) > 1 and max_vol > 0.5:\n",
    "            if len(ain_val2_idx) == 0 and len(ain_val2) == 0:\n",
    "                if np.min(np.abs(flow_ain[0, min_flow_idx:])) > 0.5:\n",
    "                    ain_val2 = np.NaN\n",
    "                    ain_val2_idx = np.NaN\n",
    "                    disqualify = True\n",
    "                else:\n",
    "                    ain_val2_idx = np.where(np.isnan(flow_ain[0, min_flow_idx:]))[0]\n",
    "                    ain_val2 = np.ones(ain_val2_idx.shape)\n",
    "                    ain_val2_idx = ain_val2_idx[0]\n",
    "                    ain_val2 = ain_val2[0]\n",
    "            else:\n",
    "                ain_val2 = ain_val2[0]\n",
    "                ain_val2_idx = ain_val2_idx[0]\n",
    "                \n",
    "            # End index of whole data\n",
    "            ain_idx2 = ain_val2_idx + min_flow_idx - 2\n",
    "            \n",
    "            flip_flow_ain = np.flip(flow_ain)\n",
    "            min_flow_idx_flip = len(flow_ain[0])-min_flow_idx-1\n",
    "            \n",
    "            ain_val1_idx_flip = np.where(flip_flow_ain[0, min_flow_idx_flip:] >= 0)[0]\n",
    "            ain_val1_flip = np.ones(ain_val1_idx_flip.shape)\n",
    "            ain_val1_flip=ain_val1_flip[0]\n",
    "            ain_val1_idx_flip=ain_val1_idx_flip[0]-1\n",
    "            ain_idx1 = len(flow_ain[0])-(ain_val1_idx_flip+min_flow_idx_flip)+2\n",
    "        else:\n",
    "            ain_idx1 = np.nan\n",
    "            ain_idx2 = np.nan\n",
    "        if disqualify:\n",
    "            ain_idx1 = np.nan\n",
    "            ain_idx2 = np.nan\n",
    "        if ain_idx1 is np.nan and ain_idx2 is np.nan:\n",
    "            neg_vol_ain = vol_ain[0]\n",
    "            neg_flow_ain = flow_ain[0]\n",
    "            AIN = np.append(AIN, 0)\n",
    "            # plt.subplot(subplot_size, subplot_size, m)\n",
    "            axs[i].plot(neg_vol_ain, neg_flow_ain, color='red')\n",
    "            axs[i].set_title(f\"Visit {visit}, Trial {trial}, AIN: {round(AIN[i], 3)}\")\n",
    "            axs[i].set_xlabel(f\"Volume (L)\")\n",
    "            axs[i].set_ylabel(f\"Flow (L/s)\")\n",
    "        else:\n",
    "            neg_vol_ain = vol_ain[0][ain_idx1:ain_idx2]\n",
    "            neg_flow_ain = flow_ain[0][ain_idx1:ain_idx2]\n",
    "            AIN = np.append(AIN, np.trapz(neg_flow_ain, neg_vol_ain))\n",
    "            axs[i].plot(neg_vol_ain, neg_flow_ain, color='blue')\n",
    "            axs[i].fill_between(neg_vol_ain, neg_flow_ain, color='blue', alpha=0.2)\n",
    "            axs[i].set_title(f\"Visit {visit}, Trial {trial}, AIN: {round(AIN[i], 3)}\")\n",
    "            axs[i].set_xlabel(f\"Volume (L)\")\n",
    "            axs[i].set_ylabel(f\"Flow (L/s)\")\n",
    "            \n",
    "    # Remove empty subplots\n",
    "    axs = [fig.delaxes(ax) for ax in axs if not ax.has_data()]\n",
    "    plt.tight_layout()\n",
    "    plt.savefig(f'python_run_output/patient_{patient_id}_spirometry.png')\n",
    "    plt.close(fig)"
   ]
  }
 ],
 "metadata": {
  "kernelspec": {
   "display_name": "spirometry_project",
   "language": "python",
   "name": "python3"
  },
  "language_info": {
   "codemirror_mode": {
    "name": "ipython",
    "version": 3
   },
   "file_extension": ".py",
   "mimetype": "text/x-python",
   "name": "python",
   "nbconvert_exporter": "python",
   "pygments_lexer": "ipython3",
   "version": "3.11.7"
  }
 },
 "nbformat": 4,
 "nbformat_minor": 2
}
