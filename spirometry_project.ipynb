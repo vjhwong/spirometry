{
 "cells": [
  {
   "cell_type": "code",
   "execution_count": null,
   "metadata": {},
   "outputs": [],
   "source": [
    "import os\n",
    "import pandas as pd\n",
    "import numpy as np\n",
    "import matplotlib.pyplot as plt"
   ]
  },
  {
   "cell_type": "markdown",
   "metadata": {},
   "source": [
    "# Load dataset"
   ]
  },
  {
   "cell_type": "code",
   "execution_count": null,
   "metadata": {},
   "outputs": [],
   "source": [
    "os.chdir(\"c:/Users/victo/Personal_Projects/spriometry/\")\n",
    "os.getcwd()"
   ]
  },
  {
   "cell_type": "code",
   "execution_count": null,
   "metadata": {},
   "outputs": [],
   "source": [
    "demographics = pd.read_csv('spirometry_data/demographics_data.csv')\n",
    "spirometry = pd.read_csv('spirometry_data/spirotidydatafinal.txt', sep=',')"
   ]
  },
  {
   "cell_type": "code",
   "execution_count": null,
   "metadata": {},
   "outputs": [],
   "source": [
    "demographics.head()"
   ]
  },
  {
   "cell_type": "code",
   "execution_count": null,
   "metadata": {},
   "outputs": [],
   "source": [
    "# spirometry.dropna(inplace=True)\n",
    "spirometry.head()"
   ]
  },
  {
   "cell_type": "code",
   "execution_count": null,
   "metadata": {},
   "outputs": [],
   "source": [
    "spirometry[(spirometry['ID'] == 102) & (spirometry['Visit'] == 1)][\"Trial\"].unique()"
   ]
  },
  {
   "cell_type": "code",
   "execution_count": null,
   "metadata": {},
   "outputs": [],
   "source": [
    "id101_visit1_trial1 = spirometry[(spirometry['ID'] == 101) & (spirometry['Visit'] == 1) & (spirometry['Trial'] == 4)]\n",
    "# id101_visit1_trial1"
   ]
  },
  {
   "cell_type": "markdown",
   "metadata": {},
   "source": [
    "# Restructuring the data"
   ]
  },
  {
   "cell_type": "code",
   "execution_count": null,
   "metadata": {},
   "outputs": [],
   "source": [
    "spirometry[spirometry['ID'] == 101]"
   ]
  },
  {
   "cell_type": "code",
   "execution_count": null,
   "metadata": {},
   "outputs": [],
   "source": [
    "spirometry[\"ID\"].unique()"
   ]
  },
  {
   "cell_type": "code",
   "execution_count": 83,
   "metadata": {},
   "outputs": [
    {
     "name": "stdout",
     "output_type": "stream",
     "text": [
      "(1849,)\n",
      "834\n",
      "[ 47  48  49  50  51  52  53  54  55  56  57  58  59  60  61  62  63  64\n",
      "  65  66  67  68  69  70  71  72  73  74  75  76  77  78  79  80  81  82\n",
      "  83  84  85  86  87  88  89  90  91  92  93  94  95  96  97  98  99 100\n",
      " 101 102 103 104 105 106 107 108 109 110 111 112 113 114 115 116 117 118\n",
      " 119 120 121 122 123 124 125 126 127 128 129 130 131 132 133 134 135 136\n",
      " 137 138 139 140 141 142 143 144 145 146 147 148 149 150 151 152 153 154\n",
      " 155 156 157 158 159 160 161 162 163 164 165 166 167 168 169 170 171 172\n",
      " 173 174 175 176 177 178 179 180 181 182 183 184 185 186 187 188 189 190\n",
      " 191 192 193 194 195 196 197 198 199 200 201 202 203 204 205 206 207 208\n",
      " 209 210 211 212 213 214 215 216 217 218 219 220 221 222 223 224 225 226\n",
      " 227 228 229 230 231 232 233 234 235 236 237 238 239 240 241]\n"
     ]
    },
    {
     "ename": "IndexError",
     "evalue": "index 47 is out of bounds for axis 0 with size 0",
     "output_type": "error",
     "traceback": [
      "\u001b[1;31m---------------------------------------------------------------------------\u001b[0m",
      "\u001b[1;31mIndexError\u001b[0m                                Traceback (most recent call last)",
      "Cell \u001b[1;32mIn[83], line 55\u001b[0m\n\u001b[0;32m     53\u001b[0m ain_val2_idx \u001b[38;5;241m=\u001b[39m np\u001b[38;5;241m.\u001b[39mwhere(flow_ain[\u001b[38;5;241m0\u001b[39m][min_flow_idx:] \u001b[38;5;241m>\u001b[39m\u001b[38;5;241m=\u001b[39m \u001b[38;5;241m0\u001b[39m)[\u001b[38;5;241m0\u001b[39m]\n\u001b[0;32m     54\u001b[0m \u001b[38;5;28mprint\u001b[39m(ain_val2_idx)\n\u001b[1;32m---> 55\u001b[0m ain_val2 \u001b[38;5;241m=\u001b[39m \u001b[43mflow_ain\u001b[49m\u001b[43m[\u001b[49m\u001b[43mmin_flow_idx\u001b[49m\u001b[43m:\u001b[49m\u001b[43m]\u001b[49m\u001b[43m[\u001b[49m\u001b[43main_val2_idx\u001b[49m\u001b[43m]\u001b[49m\n",
      "\u001b[1;31mIndexError\u001b[0m: index 47 is out of bounds for axis 0 with size 0"
     ]
    }
   ],
   "source": [
    "patient_ids = spirometry['ID'].unique()\n",
    "\n",
    "for patient_id in patient_ids:\n",
    "    # Create a directory for each patient\n",
    "    # os.mkdir(f'spirometry_data/ID{patient_id}')\n",
    "    # os.chdir(f'spirometry_data/ID{patient_id}')\n",
    "    \n",
    "    # Get the data for each patient\n",
    "    patient_data = spirometry[spirometry['ID'] == patient_id]\n",
    "\n",
    "    accepted_flow, accepted_volume = pd.DataFrame(), pd.DataFrame()\n",
    "    trials_array, visits_array = np.array([]), np.array([])\n",
    "    \n",
    "    # Get the number of visits each patient\n",
    "    n_visits = patient_data['Visit'].unique()    \n",
    "    for visit in n_visits:\n",
    "        visit_data = patient_data[patient_data['Visit'] == visit]\n",
    "        n_trials = patient_data[patient_data['Visit'] == visit]['Trial'].unique()\n",
    "        for trial in n_trials:\n",
    "            visits_array = np.append(visits_array, visit)\n",
    "            trials_array = np.append(trials_array, trial)\n",
    "            \n",
    "            # Creating Volume and Flow arrays for each trial\n",
    "            vol_trex = visit_data[visit_data['Trial'] == trial]['Volume']\n",
    "            flow_trex = visit_data[visit_data['Trial'] == trial]['Flow']\n",
    "            accepted_flow = pd.concat([accepted_flow, flow_trex.reset_index(drop=True)], axis=1)\n",
    "            accepted_volume = pd.concat([accepted_volume, vol_trex.reset_index(drop=True)], axis=1)\n",
    "            \n",
    "    accepted_flow = accepted_flow.T\n",
    "    accepted_volume = accepted_volume.T\n",
    "    subplot_size = np.sqrt(len(n_trials))\n",
    "    m = 0\n",
    "    AIN = np.array([])\n",
    "\n",
    "    visits_array = visits_array.astype(int)\n",
    "    trials_array = trials_array.astype(int)\n",
    "\n",
    "    #  Loop throguh the trials to calculate AIN\n",
    "    for i, trial in enumerate(trials_array):\n",
    "\n",
    "        vol_ain = accepted_volume.iloc[i].to_numpy().reshape(1, -1)\n",
    "        flow_ain = accepted_flow.iloc[i].to_numpy().reshape(1, -1)\n",
    "        m += 1\n",
    "        # Finding peak of inspiratory (since inspiratory flow is negative, \n",
    "        # we use the minimum value of flow as the peak of inspiratory flow)\n",
    "        min_flow, min_flow_idx = np.nanmin(flow_ain, axis=1), np.nanargmin(flow_ain, axis=1)[0]\n",
    "        \n",
    "        # Finding the maximum volume and its index\n",
    "        max_vol, max_vol_idx = np.nanmax(vol_ain), np.nanargmax(vol_ain, axis=1)[0]\n",
    "        # Find the 2nd index for ain calc (dont really understand this part)\n",
    "        ain_val2_idx = np.where(flow_ain[0][min_flow_idx:] >= 0)[0]\n",
    "        ain_val2 = flow_ain[min_flow_idx:][ain_val2_idx]\n",
    "        print()"
   ]
  },
  {
   "cell_type": "code",
   "execution_count": 82,
   "metadata": {},
   "outputs": [
    {
     "name": "stdout",
     "output_type": "stream",
     "text": [
      "[1]\n",
      "Indices of elements greater than 0: [0 1 2 3 4 5 6 7]\n"
     ]
    }
   ],
   "source": [
    "import numpy as np\n",
    "\n",
    "# Sample numpy array\n",
    "np.random.seed(42)\n",
    "arr = np.random.randint(0, 100, size=(1, 10))\n",
    "print(np.nanargmax(arr, axis=1))\n",
    "# Get indices of elements greater than 0\n",
    "indices = np.where(arr[0][2:] >= 0)[0]\n",
    "\n",
    "print(\"Indices of elements greater than 0:\", indices)\n"
   ]
  },
  {
   "cell_type": "code",
   "execution_count": null,
   "metadata": {},
   "outputs": [],
   "source": [
    "\n",
    "    #     # Find the 2nd index for ain calc (dont really understand this part)\n",
    "    #     ain_val2_idx = np.where(flow_ain[min_flow_idx:] >= 0)[0]\n",
    "    #     ain_val2 = flow_ain[min_flow_idx:][ain_val2_idx]\n",
    "    #     print(ain_val2_idx, ain_val2)\n",
    "    #     # Acceptence criteria: Inspiratory Flow must be greater than 1\n",
    "    #     # L/s and Maximum volume must be greater than 0.5 L in order to\n",
    "    #     # proceed with AIN calculation.\n",
    "    #     if abs(min_flow) > 1 and max_vol > 0.5:\n",
    "            \n",
    "    #         # Ensuring inspiratory curve is where data first enters\n",
    "    #         # negative flow up until it first passes into positive flow.\n",
    "    #         if not ain_val2 and not ain_val2_idx:\n",
    "    #             # Acceptance criteria:\n",
    "    #             # Inspiratory flow must be as close as 0.5 L/s away from 0\n",
    "    #             # to proceed with calculation\n",
    "    #             if min(abs(flow_ain[min_flow_idx:])) > 0.5:\n",
    "    #                 ain_val2 = np.NaN\n",
    "    #                 ain_val2_idx = np.NaN\n",
    "    #                 disq = 1\n",
    "    #             else:\n",
    "    #                 ain_val2_idx = np.where(np.isnan(flow_ain[min_flow_idx:]))[0]\n",
    "    #                 ain_val2 = flow_ain[min_flow_idx:][ain_val2_idx]\n",
    "    #         else:\n",
    "    #             pass"
   ]
  }
 ],
 "metadata": {
  "kernelspec": {
   "display_name": "spirometry_project",
   "language": "python",
   "name": "python3"
  },
  "language_info": {
   "codemirror_mode": {
    "name": "ipython",
    "version": 3
   },
   "file_extension": ".py",
   "mimetype": "text/x-python",
   "name": "python",
   "nbconvert_exporter": "python",
   "pygments_lexer": "ipython3",
   "version": "3.11.7"
  }
 },
 "nbformat": 4,
 "nbformat_minor": 2
}
